{
  "cells": [
    {
      "cell_type": "markdown",
      "metadata": {
        "id": "view-in-github",
        "colab_type": "text"
      },
      "source": [
        "<a href=\"https://colab.research.google.com/github/ankurdome/AI_ML_Learnings/blob/main/Assignment_2.ipynb\" target=\"_parent\"><img src=\"https://colab.research.google.com/assets/colab-badge.svg\" alt=\"Open In Colab\"/></a>"
      ]
    },
    {
      "cell_type": "markdown",
      "source": [
        "# **Integer**"
      ],
      "metadata": {
        "id": "EQRbN1vuVJAV"
      },
      "id": "EQRbN1vuVJAV"
    },
    {
      "cell_type": "code",
      "execution_count": 2,
      "id": "9649bdb8",
      "metadata": {
        "id": "9649bdb8"
      },
      "outputs": [],
      "source": [
        "integer = 5"
      ]
    },
    {
      "cell_type": "code",
      "execution_count": 3,
      "id": "9b6fd563",
      "metadata": {
        "colab": {
          "base_uri": "https://localhost:8080/"
        },
        "id": "9b6fd563",
        "outputId": "e71b6f59-2244-4a6c-8c28-cc072fbd0220"
      },
      "outputs": [
        {
          "output_type": "execute_result",
          "data": {
            "text/plain": [
              "(5, 1)"
            ]
          },
          "metadata": {},
          "execution_count": 3
        }
      ],
      "source": [
        "integer.as_integer_ratio()"
      ]
    },
    {
      "cell_type": "code",
      "execution_count": 4,
      "id": "c9236810",
      "metadata": {
        "colab": {
          "base_uri": "https://localhost:8080/"
        },
        "id": "c9236810",
        "outputId": "f5dad51f-3110-46c1-d7e4-b0f7dbd83bff"
      },
      "outputs": [
        {
          "output_type": "execute_result",
          "data": {
            "text/plain": [
              "3"
            ]
          },
          "metadata": {},
          "execution_count": 4
        }
      ],
      "source": [
        "integer.bit_length()"
      ]
    },
    {
      "cell_type": "code",
      "execution_count": 5,
      "id": "3aecba7f",
      "metadata": {
        "colab": {
          "base_uri": "https://localhost:8080/"
        },
        "id": "3aecba7f",
        "outputId": "c8a82054-c9ac-49bb-ad0a-2c01d9d13213"
      },
      "outputs": [
        {
          "output_type": "execute_result",
          "data": {
            "text/plain": [
              "b'\\x00\\x05'"
            ]
          },
          "metadata": {},
          "execution_count": 5
        }
      ],
      "source": [
        "integer.to_bytes(2, 'big')"
      ]
    },
    {
      "cell_type": "code",
      "source": [
        "integer.conjugate()"
      ],
      "metadata": {
        "colab": {
          "base_uri": "https://localhost:8080/"
        },
        "id": "gKRRMKboW5KH",
        "outputId": "c9630dc1-b468-41ee-eb17-61c241fd6bb2"
      },
      "id": "gKRRMKboW5KH",
      "execution_count": 45,
      "outputs": [
        {
          "output_type": "execute_result",
          "data": {
            "text/plain": [
              "5"
            ]
          },
          "metadata": {},
          "execution_count": 45
        }
      ]
    },
    {
      "cell_type": "markdown",
      "source": [
        "# **Float**"
      ],
      "metadata": {
        "id": "A-tFLsotVZuV"
      },
      "id": "A-tFLsotVZuV"
    },
    {
      "cell_type": "code",
      "execution_count": 6,
      "id": "5ba997ec",
      "metadata": {
        "id": "5ba997ec"
      },
      "outputs": [],
      "source": [
        "floating = 5.5"
      ]
    },
    {
      "cell_type": "code",
      "execution_count": 7,
      "id": "ae01d3ed",
      "metadata": {
        "colab": {
          "base_uri": "https://localhost:8080/"
        },
        "id": "ae01d3ed",
        "outputId": "27cc4963-3657-41a1-bd58-668a71765544"
      },
      "outputs": [
        {
          "output_type": "execute_result",
          "data": {
            "text/plain": [
              "False"
            ]
          },
          "metadata": {},
          "execution_count": 7
        }
      ],
      "source": [
        "floating.is_integer()"
      ]
    },
    {
      "cell_type": "code",
      "execution_count": 8,
      "id": "d19a337a",
      "metadata": {
        "colab": {
          "base_uri": "https://localhost:8080/",
          "height": 36
        },
        "id": "d19a337a",
        "outputId": "55f5e9a8-6280-45d3-94d5-9be76ef72a5a"
      },
      "outputs": [
        {
          "output_type": "execute_result",
          "data": {
            "text/plain": [
              "'0x1.6000000000000p+2'"
            ],
            "application/vnd.google.colaboratory.intrinsic+json": {
              "type": "string"
            }
          },
          "metadata": {},
          "execution_count": 8
        }
      ],
      "source": [
        "floating.hex()"
      ]
    },
    {
      "cell_type": "code",
      "execution_count": 9,
      "id": "ae2698ee",
      "metadata": {
        "colab": {
          "base_uri": "https://localhost:8080/"
        },
        "id": "ae2698ee",
        "outputId": "d7a9780f-8e7c-400f-923a-51c1e247328c"
      },
      "outputs": [
        {
          "output_type": "execute_result",
          "data": {
            "text/plain": [
              "(11, 2)"
            ]
          },
          "metadata": {},
          "execution_count": 9
        }
      ],
      "source": [
        "floating.as_integer_ratio()"
      ]
    },
    {
      "cell_type": "code",
      "source": [
        "floating.__trunc__()"
      ],
      "metadata": {
        "colab": {
          "base_uri": "https://localhost:8080/"
        },
        "id": "FscKQwkuXLiD",
        "outputId": "816455ed-1a9c-4806-bd65-610af43fa009"
      },
      "id": "FscKQwkuXLiD",
      "execution_count": 46,
      "outputs": [
        {
          "output_type": "execute_result",
          "data": {
            "text/plain": [
              "5"
            ]
          },
          "metadata": {},
          "execution_count": 46
        }
      ]
    },
    {
      "cell_type": "markdown",
      "source": [
        "# **String**"
      ],
      "metadata": {
        "id": "7a2vKBZHViTO"
      },
      "id": "7a2vKBZHViTO"
    },
    {
      "cell_type": "code",
      "execution_count": 10,
      "id": "e35768c5",
      "metadata": {
        "id": "e35768c5"
      },
      "outputs": [],
      "source": [
        "name = 'ankurdome'"
      ]
    },
    {
      "cell_type": "code",
      "execution_count": 11,
      "id": "1fbf2f5d",
      "metadata": {
        "colab": {
          "base_uri": "https://localhost:8080/",
          "height": 36
        },
        "id": "1fbf2f5d",
        "outputId": "ecdd50dc-bfbb-495e-b2fb-93e61d0e64c5"
      },
      "outputs": [
        {
          "output_type": "execute_result",
          "data": {
            "text/plain": [
              "'Ankurdome'"
            ],
            "application/vnd.google.colaboratory.intrinsic+json": {
              "type": "string"
            }
          },
          "metadata": {},
          "execution_count": 11
        }
      ],
      "source": [
        "name.capitalize()"
      ]
    },
    {
      "cell_type": "code",
      "execution_count": 12,
      "id": "27a55841",
      "metadata": {
        "colab": {
          "base_uri": "https://localhost:8080/",
          "height": 36
        },
        "id": "27a55841",
        "outputId": "2f03ecd9-1965-4bf4-a9f4-f469b147654a"
      },
      "outputs": [
        {
          "output_type": "execute_result",
          "data": {
            "text/plain": [
              "'ANKURDOME'"
            ],
            "application/vnd.google.colaboratory.intrinsic+json": {
              "type": "string"
            }
          },
          "metadata": {},
          "execution_count": 12
        }
      ],
      "source": [
        "name.upper()"
      ]
    },
    {
      "cell_type": "code",
      "execution_count": 13,
      "id": "85fb76a3",
      "metadata": {
        "colab": {
          "base_uri": "https://localhost:8080/",
          "height": 36
        },
        "id": "85fb76a3",
        "outputId": "5b5fe091-9084-4917-847e-fa93ec54f0e4"
      },
      "outputs": [
        {
          "output_type": "execute_result",
          "data": {
            "text/plain": [
              "'ankurdome'"
            ],
            "application/vnd.google.colaboratory.intrinsic+json": {
              "type": "string"
            }
          },
          "metadata": {},
          "execution_count": 13
        }
      ],
      "source": [
        "name.replace('h', 'H')"
      ]
    },
    {
      "cell_type": "code",
      "source": [
        "name.strip()"
      ],
      "metadata": {
        "colab": {
          "base_uri": "https://localhost:8080/",
          "height": 36
        },
        "id": "iXiumCM3XQTK",
        "outputId": "02d74ba8-4846-4b72-f1a2-576059dd2cfa"
      },
      "id": "iXiumCM3XQTK",
      "execution_count": 47,
      "outputs": [
        {
          "output_type": "execute_result",
          "data": {
            "text/plain": [
              "'ankurdome'"
            ],
            "application/vnd.google.colaboratory.intrinsic+json": {
              "type": "string"
            }
          },
          "metadata": {},
          "execution_count": 47
        }
      ]
    },
    {
      "cell_type": "markdown",
      "source": [
        "# **List**"
      ],
      "metadata": {
        "id": "iGO9INmuVuy7"
      },
      "id": "iGO9INmuVuy7"
    },
    {
      "cell_type": "code",
      "execution_count": 14,
      "id": "ba4b9eaf",
      "metadata": {
        "id": "ba4b9eaf"
      },
      "outputs": [],
      "source": [
        "numbers = [1, 2, 3]"
      ]
    },
    {
      "cell_type": "code",
      "execution_count": 17,
      "id": "8e037209",
      "metadata": {
        "colab": {
          "base_uri": "https://localhost:8080/"
        },
        "id": "8e037209",
        "outputId": "537423b5-2a51-438a-b2fc-4d58d77b8b1b"
      },
      "outputs": [
        {
          "output_type": "execute_result",
          "data": {
            "text/plain": [
              "[4, 3, 2, 1, 4]"
            ]
          },
          "metadata": {},
          "execution_count": 17
        }
      ],
      "source": [
        "numbers.append(4)\n",
        "numbers"
      ]
    },
    {
      "cell_type": "code",
      "execution_count": 18,
      "id": "db1a42aa",
      "metadata": {
        "colab": {
          "base_uri": "https://localhost:8080/"
        },
        "id": "db1a42aa",
        "outputId": "363fdcc5-b52c-4ac6-c808-331b84bcfe83"
      },
      "outputs": [
        {
          "output_type": "execute_result",
          "data": {
            "text/plain": [
              "[4, 1, 2, 3, 4]"
            ]
          },
          "metadata": {},
          "execution_count": 18
        }
      ],
      "source": [
        "numbers.reverse()\n",
        "numbers"
      ]
    },
    {
      "cell_type": "code",
      "execution_count": 19,
      "id": "25c473bd",
      "metadata": {
        "colab": {
          "base_uri": "https://localhost:8080/"
        },
        "id": "25c473bd",
        "outputId": "0fcc3975-a50c-46c6-ccf7-bbe062711e2b"
      },
      "outputs": [
        {
          "output_type": "execute_result",
          "data": {
            "text/plain": [
              "1"
            ]
          },
          "metadata": {},
          "execution_count": 19
        }
      ],
      "source": [
        "numbers.count(2)"
      ]
    },
    {
      "cell_type": "code",
      "source": [
        "numbers.extend([5, 6])\n",
        "numbers"
      ],
      "metadata": {
        "colab": {
          "base_uri": "https://localhost:8080/"
        },
        "id": "vdDiBIssXTBo",
        "outputId": "ee790f65-ca49-401d-f327-f96819929d09"
      },
      "id": "vdDiBIssXTBo",
      "execution_count": 49,
      "outputs": [
        {
          "output_type": "execute_result",
          "data": {
            "text/plain": [
              "[4, 1, 2, 3, 4, 5, 6, 5, 6]"
            ]
          },
          "metadata": {},
          "execution_count": 49
        }
      ]
    },
    {
      "cell_type": "markdown",
      "source": [
        "# **Tuple**"
      ],
      "metadata": {
        "id": "o8CBV42MV7qS"
      },
      "id": "o8CBV42MV7qS"
    },
    {
      "cell_type": "code",
      "execution_count": 20,
      "id": "190b74b1",
      "metadata": {
        "id": "190b74b1"
      },
      "outputs": [],
      "source": [
        "values = (1, 2, 3)"
      ]
    },
    {
      "cell_type": "code",
      "execution_count": 21,
      "id": "3503e150",
      "metadata": {
        "colab": {
          "base_uri": "https://localhost:8080/"
        },
        "id": "3503e150",
        "outputId": "f55e05d1-1a66-44ce-f5af-b8b36502d027"
      },
      "outputs": [
        {
          "output_type": "execute_result",
          "data": {
            "text/plain": [
              "1"
            ]
          },
          "metadata": {},
          "execution_count": 21
        }
      ],
      "source": [
        "values.count(2)"
      ]
    },
    {
      "cell_type": "code",
      "execution_count": 22,
      "id": "ceb08cb8",
      "metadata": {
        "colab": {
          "base_uri": "https://localhost:8080/"
        },
        "id": "ceb08cb8",
        "outputId": "93e27e36-e2c5-4d63-c1bf-32d863f449f8"
      },
      "outputs": [
        {
          "output_type": "execute_result",
          "data": {
            "text/plain": [
              "2"
            ]
          },
          "metadata": {},
          "execution_count": 22
        }
      ],
      "source": [
        "values.index(3)"
      ]
    },
    {
      "cell_type": "code",
      "source": [
        "values.__add__((4, 5))"
      ],
      "metadata": {
        "colab": {
          "base_uri": "https://localhost:8080/"
        },
        "id": "0tTeDDZzXX8E",
        "outputId": "40be8c33-ccb6-495a-8805-fafa99ad8fda"
      },
      "id": "0tTeDDZzXX8E",
      "execution_count": 50,
      "outputs": [
        {
          "output_type": "execute_result",
          "data": {
            "text/plain": [
              "(1, 2, 3, 4, 5)"
            ]
          },
          "metadata": {},
          "execution_count": 50
        }
      ]
    },
    {
      "cell_type": "code",
      "source": [
        "values.__mul__(2)"
      ],
      "metadata": {
        "colab": {
          "base_uri": "https://localhost:8080/"
        },
        "id": "pyK-X_XAXa7o",
        "outputId": "1b2d1e4d-302d-4835-b6b7-9aa505b8e329"
      },
      "id": "pyK-X_XAXa7o",
      "execution_count": 51,
      "outputs": [
        {
          "output_type": "execute_result",
          "data": {
            "text/plain": [
              "(1, 2, 3, 1, 2, 3)"
            ]
          },
          "metadata": {},
          "execution_count": 51
        }
      ]
    },
    {
      "cell_type": "markdown",
      "source": [
        "# **Set**"
      ],
      "metadata": {
        "id": "xJatWp80WBwa"
      },
      "id": "xJatWp80WBwa"
    },
    {
      "cell_type": "code",
      "execution_count": 53,
      "id": "b9358d0d",
      "metadata": {
        "id": "b9358d0d"
      },
      "outputs": [],
      "source": [
        "unique_numbers = {1, 2, 3}"
      ]
    },
    {
      "cell_type": "code",
      "execution_count": 54,
      "id": "a065bd75",
      "metadata": {
        "colab": {
          "base_uri": "https://localhost:8080/"
        },
        "id": "a065bd75",
        "outputId": "bb83816a-10bc-4ed8-85ee-d4a3fc26d740"
      },
      "outputs": [
        {
          "output_type": "execute_result",
          "data": {
            "text/plain": [
              "{1, 2, 3, 4}"
            ]
          },
          "metadata": {},
          "execution_count": 54
        }
      ],
      "source": [
        "unique_numbers.add(4)\n",
        "unique_numbers"
      ]
    },
    {
      "cell_type": "code",
      "execution_count": 55,
      "id": "c8cecfa6",
      "metadata": {
        "colab": {
          "base_uri": "https://localhost:8080/"
        },
        "id": "c8cecfa6",
        "outputId": "120d1f46-667c-48c8-8f27-6eeee248808d"
      },
      "outputs": [
        {
          "output_type": "execute_result",
          "data": {
            "text/plain": [
              "{1, 3, 4}"
            ]
          },
          "metadata": {},
          "execution_count": 55
        }
      ],
      "source": [
        "unique_numbers.discard(2)\n",
        "unique_numbers"
      ]
    },
    {
      "cell_type": "code",
      "execution_count": 56,
      "id": "bd2b97a0",
      "metadata": {
        "colab": {
          "base_uri": "https://localhost:8080/"
        },
        "id": "bd2b97a0",
        "outputId": "2a32d9f6-7a87-4f56-9255-80ddcea392bd"
      },
      "outputs": [
        {
          "output_type": "execute_result",
          "data": {
            "text/plain": [
              "{3, 4}"
            ]
          },
          "metadata": {},
          "execution_count": 56
        }
      ],
      "source": [
        "unique_numbers.pop()\n",
        "unique_numbers"
      ]
    },
    {
      "cell_type": "code",
      "source": [
        "unique_numbers.update({5, 6})\n",
        "unique_numbers"
      ],
      "metadata": {
        "colab": {
          "base_uri": "https://localhost:8080/"
        },
        "id": "9BKC1lWIXeaR",
        "outputId": "0c7a27bd-ec7c-4f17-f3a9-cfba6333c65a"
      },
      "id": "9BKC1lWIXeaR",
      "execution_count": 57,
      "outputs": [
        {
          "output_type": "execute_result",
          "data": {
            "text/plain": [
              "{3, 4, 5, 6}"
            ]
          },
          "metadata": {},
          "execution_count": 57
        }
      ]
    },
    {
      "cell_type": "markdown",
      "source": [
        "# **Dictionary**"
      ],
      "metadata": {
        "id": "k8lWpszKWW8b"
      },
      "id": "k8lWpszKWW8b"
    },
    {
      "cell_type": "code",
      "execution_count": 59,
      "id": "e28d54a1",
      "metadata": {
        "id": "e28d54a1"
      },
      "outputs": [],
      "source": [
        "person = {'name': 'Ankur', 'age': 20}"
      ]
    },
    {
      "cell_type": "code",
      "execution_count": 60,
      "id": "4ba2ab81",
      "metadata": {
        "colab": {
          "base_uri": "https://localhost:8080/"
        },
        "id": "4ba2ab81",
        "outputId": "b0e434dd-0db8-4f60-d337-f1fdddd69560"
      },
      "outputs": [
        {
          "output_type": "execute_result",
          "data": {
            "text/plain": [
              "dict_keys(['name', 'age'])"
            ]
          },
          "metadata": {},
          "execution_count": 60
        }
      ],
      "source": [
        "person.keys()"
      ]
    },
    {
      "cell_type": "code",
      "execution_count": 61,
      "id": "e7882358",
      "metadata": {
        "colab": {
          "base_uri": "https://localhost:8080/"
        },
        "id": "e7882358",
        "outputId": "c9a70323-c812-4675-fbfb-0be8b59d27ed"
      },
      "outputs": [
        {
          "output_type": "execute_result",
          "data": {
            "text/plain": [
              "dict_values(['Ankur', 20])"
            ]
          },
          "metadata": {},
          "execution_count": 61
        }
      ],
      "source": [
        "person.values()"
      ]
    },
    {
      "cell_type": "code",
      "execution_count": 62,
      "id": "303ce739",
      "metadata": {
        "colab": {
          "base_uri": "https://localhost:8080/",
          "height": 36
        },
        "id": "303ce739",
        "outputId": "9afef6d8-eba5-44e5-c394-f7c4d4f834a2"
      },
      "outputs": [
        {
          "output_type": "execute_result",
          "data": {
            "text/plain": [
              "'Ankur'"
            ],
            "application/vnd.google.colaboratory.intrinsic+json": {
              "type": "string"
            }
          },
          "metadata": {},
          "execution_count": 62
        }
      ],
      "source": [
        "person.get('name')"
      ]
    },
    {
      "cell_type": "code",
      "source": [
        "person.items()"
      ],
      "metadata": {
        "colab": {
          "base_uri": "https://localhost:8080/"
        },
        "id": "MiwSEK5QXp3R",
        "outputId": "1ed6b981-6165-4c2f-acb9-71263bcbedb0"
      },
      "id": "MiwSEK5QXp3R",
      "execution_count": 63,
      "outputs": [
        {
          "output_type": "execute_result",
          "data": {
            "text/plain": [
              "dict_items([('name', 'Ankur'), ('age', 20)])"
            ]
          },
          "metadata": {},
          "execution_count": 63
        }
      ]
    },
    {
      "cell_type": "markdown",
      "source": [
        "# **Bool**"
      ],
      "metadata": {
        "id": "PTZXRtBfWg1m"
      },
      "id": "PTZXRtBfWg1m"
    },
    {
      "cell_type": "code",
      "execution_count": 40,
      "id": "3c7100df",
      "metadata": {
        "id": "3c7100df"
      },
      "outputs": [],
      "source": [
        "flag = True"
      ]
    },
    {
      "cell_type": "code",
      "execution_count": 41,
      "id": "9c58c8df",
      "metadata": {
        "colab": {
          "base_uri": "https://localhost:8080/"
        },
        "id": "9c58c8df",
        "outputId": "a020a15a-58e8-461d-d270-510ffc01a646"
      },
      "outputs": [
        {
          "output_type": "execute_result",
          "data": {
            "text/plain": [
              "True"
            ]
          },
          "metadata": {},
          "execution_count": 41
        }
      ],
      "source": [
        "flag.__bool__()"
      ]
    },
    {
      "cell_type": "code",
      "source": [
        "flag.__and__(False)"
      ],
      "metadata": {
        "colab": {
          "base_uri": "https://localhost:8080/"
        },
        "id": "0PIJVCK9Xsn-",
        "outputId": "ce233b42-3811-4f6c-fe3d-80769c0e6246"
      },
      "id": "0PIJVCK9Xsn-",
      "execution_count": 64,
      "outputs": [
        {
          "output_type": "execute_result",
          "data": {
            "text/plain": [
              "False"
            ]
          },
          "metadata": {},
          "execution_count": 64
        }
      ]
    },
    {
      "cell_type": "code",
      "source": [
        "flag.__or__(True)"
      ],
      "metadata": {
        "colab": {
          "base_uri": "https://localhost:8080/"
        },
        "id": "oABbUvyGYxFJ",
        "outputId": "9c2aa0ac-db94-491f-bcdc-74608515ae3e"
      },
      "id": "oABbUvyGYxFJ",
      "execution_count": 66,
      "outputs": [
        {
          "output_type": "execute_result",
          "data": {
            "text/plain": [
              "True"
            ]
          },
          "metadata": {},
          "execution_count": 66
        }
      ]
    },
    {
      "cell_type": "code",
      "source": [
        "flag.__xor__(False)"
      ],
      "metadata": {
        "colab": {
          "base_uri": "https://localhost:8080/"
        },
        "id": "6eyvhl2lY1VY",
        "outputId": "3a02b253-4864-4dae-f12b-7748a91ef709"
      },
      "id": "6eyvhl2lY1VY",
      "execution_count": 67,
      "outputs": [
        {
          "output_type": "execute_result",
          "data": {
            "text/plain": [
              "True"
            ]
          },
          "metadata": {},
          "execution_count": 67
        }
      ]
    },
    {
      "cell_type": "markdown",
      "source": [
        "# **Bytes**"
      ],
      "metadata": {
        "id": "8j9spl7sWk3k"
      },
      "id": "8j9spl7sWk3k"
    },
    {
      "cell_type": "code",
      "execution_count": 42,
      "id": "44f701fc",
      "metadata": {
        "id": "44f701fc"
      },
      "outputs": [],
      "source": [
        "byte_data = b'hello'"
      ]
    },
    {
      "cell_type": "code",
      "execution_count": 43,
      "id": "f8d6b4e6",
      "metadata": {
        "colab": {
          "base_uri": "https://localhost:8080/",
          "height": 36
        },
        "id": "f8d6b4e6",
        "outputId": "d99b30eb-89d0-4016-c40f-0d2a53ea9560"
      },
      "outputs": [
        {
          "output_type": "execute_result",
          "data": {
            "text/plain": [
              "'hello'"
            ],
            "application/vnd.google.colaboratory.intrinsic+json": {
              "type": "string"
            }
          },
          "metadata": {},
          "execution_count": 43
        }
      ],
      "source": [
        "byte_data.decode()"
      ]
    },
    {
      "cell_type": "code",
      "execution_count": 44,
      "id": "0a6d696c",
      "metadata": {
        "colab": {
          "base_uri": "https://localhost:8080/",
          "height": 36
        },
        "id": "0a6d696c",
        "outputId": "775bfa43-f92a-4724-d036-29633975b022"
      },
      "outputs": [
        {
          "output_type": "execute_result",
          "data": {
            "text/plain": [
              "'68656c6c6f'"
            ],
            "application/vnd.google.colaboratory.intrinsic+json": {
              "type": "string"
            }
          },
          "metadata": {},
          "execution_count": 44
        }
      ],
      "source": [
        "byte_data.hex()"
      ]
    },
    {
      "cell_type": "code",
      "source": [
        "byte_data.find(b'e')"
      ],
      "metadata": {
        "colab": {
          "base_uri": "https://localhost:8080/"
        },
        "id": "F1ssviOKY339",
        "outputId": "a1b31cbd-bdba-4232-e1f7-08b9a15026e1"
      },
      "id": "F1ssviOKY339",
      "execution_count": 68,
      "outputs": [
        {
          "output_type": "execute_result",
          "data": {
            "text/plain": [
              "1"
            ]
          },
          "metadata": {},
          "execution_count": 68
        }
      ]
    },
    {
      "cell_type": "code",
      "source": [
        "byte_data.replace(b'h', b'H')"
      ],
      "metadata": {
        "colab": {
          "base_uri": "https://localhost:8080/"
        },
        "id": "iXmLZC9cY5_S",
        "outputId": "a2072cd4-995f-460b-9c17-a22d33fefc97"
      },
      "id": "iXmLZC9cY5_S",
      "execution_count": 69,
      "outputs": [
        {
          "output_type": "execute_result",
          "data": {
            "text/plain": [
              "b'Hello'"
            ]
          },
          "metadata": {},
          "execution_count": 69
        }
      ]
    }
  ],
  "metadata": {
    "colab": {
      "provenance": [],
      "include_colab_link": true
    },
    "language_info": {
      "name": "python"
    },
    "kernelspec": {
      "name": "python3",
      "display_name": "Python 3"
    }
  },
  "nbformat": 4,
  "nbformat_minor": 5
}